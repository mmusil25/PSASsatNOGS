{
 "cells": [
  {
   "cell_type": "markdown",
   "metadata": {},
   "source": [
    "#### Pintle test Omega 600 PSI calibration test\n",
    "\n",
    "This code was create to find a linear regression for Omega 600 PSI calibration data in order to create a well calibrated pressure transducer.\n",
    "\n",
    "Author: Mark Musil B.S. E.E. Portland State Univ. March 2018"
   ]
  },
  {
   "cell_type": "code",
   "execution_count": 26,
   "metadata": {},
   "outputs": [
    {
     "name": "stdout",
     "output_type": "stream",
     "text": [
      "The array of differences is: [0.9, 1.0, 0.6, 0.9, 0.9, 0.8, 1.0, 0.8, 0.8]\n",
      "The conversion of arduino output to psi is: 0.855555555556\n"
     ]
    }
   ],
   "source": [
    "#imports\n",
    "import numpy as np\n",
    "psi = [0,10,20,30,40,50,60,70,80,90]\n",
    "analogout = [171,180,190,196,205,\n",
    "             214, 222, 232, 240, 248]\n",
    "diffarray = []\n",
    "for i in range(len(psi)):\n",
    "    if i == 0:\n",
    "        bert = 'weird'\n",
    "    else:\n",
    "        diffarray.append((analogout[i]-analogout[i-1])/10)\n",
    "print ('The array of differences is: ' + str(diffarray))\n",
    "print('The conversion of arduino output to'\n",
    "      ' psi is: ' + str(np.average(diffarray)))\n"
   ]
  }
 ],
 "metadata": {
  "kernelspec": {
   "display_name": "Python [default]",
   "language": "python",
   "name": "python3"
  },
  "language_info": {
   "codemirror_mode": {
    "name": "ipython",
    "version": 3
   },
   "file_extension": ".py",
   "mimetype": "text/x-python",
   "name": "python",
   "nbconvert_exporter": "python",
   "pygments_lexer": "ipython3",
   "version": "3.5.2"
  }
 },
 "nbformat": 4,
 "nbformat_minor": 2
}
